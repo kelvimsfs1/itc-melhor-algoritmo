{
 "cells": [
  {
   "cell_type": "markdown",
   "source": "# Algoritmos para resolver TSP",
   "metadata": {
    "tags": [],
    "is_collapsed": false,
    "cell_id": "00000-e7e53c22-2ac9-40fe-b8f4-6882e23509fa",
    "deepnote_cell_type": "text-cell-h1"
   }
  },
  {
   "cell_type": "markdown",
   "source": "### Carregando arquivo txt + dados de entrada",
   "metadata": {
    "tags": [],
    "is_collapsed": false,
    "cell_id": "00002-bb83c622-4c8e-4d75-a95a-2fe8e2590600",
    "deepnote_cell_type": "text-cell-h3"
   }
  },
  {
   "cell_type": "code",
   "metadata": {
    "tags": [],
    "cell_id": "00005-d829c461-d773-4550-8e6e-106d64b3b4d3",
    "deepnote_to_be_reexecuted": false,
    "source_hash": "4e2e2fd7",
    "execution_start": 1630975923686,
    "execution_millis": 39,
    "deepnote_cell_type": "code"
   },
   "source": "cidades = []\nmatriz_distancias = []\n\n# Start writing code here...\nfile1 = open('matriz_distancia.txt', 'r')\nLines = file1.readlines()\n \ncount = 0\n# Strips the newline character\nfor line in Lines:\n    count += 1\n    print(\"Line{}: {}\".format(count, line.strip()))\n    if count == 1:\n      cidades = line.split()\n      for i in range(len(cidades)):\n          cidades[i] = int(cidades[i])          \n    else:\n      matriz_distancias.append(line.split( ))\n\nfor l in range(0,27):\n        for p in range(0,28):\n           matriz_distancias[l][p-1]= int(matriz_distancias[l][p-1])\n          \n\nprint(\"--cidades---\")\nprint(len(cidades))\nprint(\"------------\")\nprint(\"--- Matriz---\")\nfor linha in matriz_distancias:\n    print(linha)",
   "outputs": [
    {
     "name": "stdout",
     "text": "Line1: 1\t2\t3\t4\t5\t6\t7\t8\t9\t10\t11\t12\t13\t14\t15\t16\t17\t18\t19\t20\t21\t22\t23\t24\t25\t26\t27\nLine2: 1\t0\t1641\t1248\t3022\t1292\t2155\t2121\t2061\t2207\t815\t1461\t486\t1967\t201\t2673\t604\t1235\t2580\t2946\t398\t3359\t1482\t277\t1226\t1731\t903\t1102\nLine3: 2\t2079\t0\t2111\t1432\t1592\t2212\t1778\t2665\t2904\t1133\t1693\t1636\t329\t1680\t1292\t1550\t973\t3188\t1886\t1676\t2333\t2450\t1687\t481\t2463\t750\t2275\nLine4: 3\t1578\t2824\t0\t3117\t624\t1118\t1372\t820\t973\t1893\t666\t1726\t2349\t1439\t2556\t1831\t1178\t1341\t2477\t1639\t2786\t339\t964\t1932\t489\t1652\t378\nLine5: 4\t6000\t6083\t4736\t0\t2496\t2667\t2107\t3370\t3620\t2562\t2503\t3067\t1110\t3089\t661\t2983\t1988\t3785\t1335\t3103\t1626\t3428\t3009\t1913\t3300\t2169\t3394\nLine6: 5\t1652\t2120\t716\t4275\t0\t878\t873\t1081\t1314\t1687\t173\t1716\t1791\t1485\t1932\t1775\t620\t1619\t1900\t1657\t2246\t933\t1060\t1524\t873\t1313\t947\nLine7: 6\t2765\t2942\t1453\t3836\t1134\t0\t559\t780\t1007\t2547\t705\t2593\t2309\t2352\t2013\t2654\t1320\t1119\t1634\t2530\t1827\t1212\t1905\t2284\t894\t2132\t1490\nLine8: 7\t2775\t2941\t1594\t3142\t1133\t694\t0\t1302\t1543\t2329\t740\t2495\t1822\t2302\t1453\t2524\t1029\t1679\t1137\t2452\t1414\t1575\t1915\t1942\t1326\t1862\t1745\nLine9: 8\t2595\t3193\t1004\t4821\t1366\t991\t1679\t0\t251\t2670\t972\t2545\t2836\t2259\t2734\t2645\t1693\t546\t2412\t2459\t2601\t675\t1784\t2599\t338\t2362\t1076\nLine10: 9\t2892\t3500\t1301\t5128\t1673\t1298\t1986\t300\t0\t2857\t1215\t2693\t3082\t2402\t2981\t2802\t1931\t376\t2641\t2603\t2809\t748\t1930\t2821\t489\t2573\t1160\nLine11: 10\t1183\t1610\t2528\t6548\t2200\t3407\t3406\t3541\t3838\t0\t1854\t555\t1451\t730\t2383\t435\t1300\t3213\t2855\t629\t3300\t2190\t1028\t652\t2368\t495\t1855\nLine12: 11\t1848\t2017\t906\t4076\t209\t935\t934\t1186\t1493\t2482\t0\t1889\t1868\t1656\t1912\t1948\t724\t1497\t1813\t1829\t2138\t936\t1225\t1662\t810\t1467\t1022\nLine13: 12\t611\t2161\t2171\t6593\t2245\t3357\t3366\t3188\t3485\t688\t2442\t0\t1964\t299\t2819\t151\t1521\t3066\t3200\t104\t3632\t1968\t763\t1162\t2216\t905\t1581\nLine14: 13\t0\t0\t0\t0\t0\t0\t0\t0\t0\t0\t0\t0\t0\t2009\t1054\t1874\t1177\t3341\t1724\t2005\t2159\t2687\t2000\t803\t2664\t1079\t2545\nLine15: 14\t294\t2173\t1854\t6279\t1930\t3040\t3049\t2871\t3168\t1075\t2125\t395\t0\t0\t2778\t434\t1383\t2775\t3090\t202\t3510\t1671\t475\t1234\t1928\t929\t1282\nLine16: 15\t5215\t5298\t3951\t785\t3490\t3051\t2357\t4036\t4443\t5763\t3291\t5808\t0\t5491\t0\t2765\t1509\t3132\t761\t2833\t1149\t2849\t2605\t1746\t2689\t1921\t2865\nLine17: 16\t788\t2108\t2348\t6770\t2422\t3534\t3543\t3365\t3662\t537\t2618\t185\t0\t572\t5985\t0\t1527\t3172\t3179\t253\t3616\t2085\t875\t1071\t2320\t843\t1706\nLine18: 17\t1662\t1283\t1690\t4926\t973\t1785\t1784\t2036\t2336\t2035\t874\t2253\t0\t1851\t4141\t2345\t0\t2222\t1711\t1498\t2127\t1512\t1114\t964\t1493\t835\t1413\nLine19: 18\t3296\t3852\t1712\t5348\t2027\t1518\t2206\t711\t476\t4242\t1847\t3889\t0\t3572\t4563\t4066\t2747\t0\t2706\t2977\t2814\t1123\t2303\t3142\t852\t2909\t1536\nLine20: 19\t4230\t4397\t3050\t1686\t2589\t2150\t1456\t3135\t3442\t4862\t2390\t4822\t0\t4505\t901\t4998\t\t3662\t0\t3190\t449\t2707\t2808\t2274\t2463\t2362\t2835\nLine21: 20\t501\t2074\t2061\t6483\t2135\t3247\t3255\t3078\t3375\t800\t2332\t120\t0\t285\t5698\t297\t2058\t3779\t4712\t0\t3618\t1874\t675\t1209\t2128\t934\t1483\nLine22: 21\t4763\t4931\t3584\t2230\t3123\t2684\t1990\t3669\t3976\t5396\t2924\t5356\t0\t5039\t1445\t5533\t3764\t4196\t544\t5243\t0\t2982\t3206\t2726\t2704\t2806\t3156\nLine23: 22\t1855\t3250\t434\t5159\t1148\t1444\t2017\t852\t1144\t2805\t1338\t2448\t0\t2131\t4374\t2625\t2124\t1553\t3473\t2338\t4007\t0\t1209\t2266\t357\t1979\t412\nLine24: 23\t356\t2100\t1372\t5794\t1446\t2568\t2566\t2385\t2682\t1389\t1643\t949\t0\t632\t5009\t1126\t1454\t3090\t4023\t839\t4457\t1649\t0\t1323\t1453\t994\t839\nLine25: 24\t1578\t806\t2738\t6120\t2157\t2979\t2978\t3230\t3537\t1070\t2054\t1660\t0\t1672\t5335\t1607\t1386\t3891\t4434\t1573\t4968\t3015\t1599\t0\t2348\t329\t2023\nLine26: 25\t2187\t2933\t586\t4756\t1015\t1014\t1614\t408\t705\t3127\t926\t2770\t0\t2453\t3971\t2947\t1776\t1109\t3070\t2660\t3604\t429\t1962\t2970\t0\t2091\t741\nLine27: 26\t1142\t947\t2302\t6052\t1789\t2911\t2910\t3143\t3450\t634\t1986\t1224\t0\t1236\t5267\t1171\t1401\t3804\t4366\t1137\t4900\t2579\t1163\t446\t2792\t0\t1713\nLine28: 27\t1408\t3108\t524\t5261\t1239\t1892\t2119\t1300\t1597\t2397\t1428\t2001\t0\t1684\t4476\t2178\t2214\t2001\t3575\t1831\t4109\t521\t1202\t2607\t882\t2171\t0\n--cidades---\n27\n------------\n--- Matriz---\n[1, 0, 1641, 1248, 3022, 1292, 2155, 2121, 2061, 2207, 815, 1461, 486, 1967, 201, 2673, 604, 1235, 2580, 2946, 398, 3359, 1482, 277, 1226, 1731, 903, 1102]\n[2, 2079, 0, 2111, 1432, 1592, 2212, 1778, 2665, 2904, 1133, 1693, 1636, 329, 1680, 1292, 1550, 973, 3188, 1886, 1676, 2333, 2450, 1687, 481, 2463, 750, 2275]\n[3, 1578, 2824, 0, 3117, 624, 1118, 1372, 820, 973, 1893, 666, 1726, 2349, 1439, 2556, 1831, 1178, 1341, 2477, 1639, 2786, 339, 964, 1932, 489, 1652, 378]\n[4, 6000, 6083, 4736, 0, 2496, 2667, 2107, 3370, 3620, 2562, 2503, 3067, 1110, 3089, 661, 2983, 1988, 3785, 1335, 3103, 1626, 3428, 3009, 1913, 3300, 2169, 3394]\n[5, 1652, 2120, 716, 4275, 0, 878, 873, 1081, 1314, 1687, 173, 1716, 1791, 1485, 1932, 1775, 620, 1619, 1900, 1657, 2246, 933, 1060, 1524, 873, 1313, 947]\n[6, 2765, 2942, 1453, 3836, 1134, 0, 559, 780, 1007, 2547, 705, 2593, 2309, 2352, 2013, 2654, 1320, 1119, 1634, 2530, 1827, 1212, 1905, 2284, 894, 2132, 1490]\n[7, 2775, 2941, 1594, 3142, 1133, 694, 0, 1302, 1543, 2329, 740, 2495, 1822, 2302, 1453, 2524, 1029, 1679, 1137, 2452, 1414, 1575, 1915, 1942, 1326, 1862, 1745]\n[8, 2595, 3193, 1004, 4821, 1366, 991, 1679, 0, 251, 2670, 972, 2545, 2836, 2259, 2734, 2645, 1693, 546, 2412, 2459, 2601, 675, 1784, 2599, 338, 2362, 1076]\n[9, 2892, 3500, 1301, 5128, 1673, 1298, 1986, 300, 0, 2857, 1215, 2693, 3082, 2402, 2981, 2802, 1931, 376, 2641, 2603, 2809, 748, 1930, 2821, 489, 2573, 1160]\n[10, 1183, 1610, 2528, 6548, 2200, 3407, 3406, 3541, 3838, 0, 1854, 555, 1451, 730, 2383, 435, 1300, 3213, 2855, 629, 3300, 2190, 1028, 652, 2368, 495, 1855]\n[11, 1848, 2017, 906, 4076, 209, 935, 934, 1186, 1493, 2482, 0, 1889, 1868, 1656, 1912, 1948, 724, 1497, 1813, 1829, 2138, 936, 1225, 1662, 810, 1467, 1022]\n[12, 611, 2161, 2171, 6593, 2245, 3357, 3366, 3188, 3485, 688, 2442, 0, 1964, 299, 2819, 151, 1521, 3066, 3200, 104, 3632, 1968, 763, 1162, 2216, 905, 1581]\n[13, 0, 0, 0, 0, 0, 0, 0, 0, 0, 0, 0, 0, 0, 2009, 1054, 1874, 1177, 3341, 1724, 2005, 2159, 2687, 2000, 803, 2664, 1079, 2545]\n[14, 294, 2173, 1854, 6279, 1930, 3040, 3049, 2871, 3168, 1075, 2125, 395, 0, 0, 2778, 434, 1383, 2775, 3090, 202, 3510, 1671, 475, 1234, 1928, 929, 1282]\n[15, 5215, 5298, 3951, 785, 3490, 3051, 2357, 4036, 4443, 5763, 3291, 5808, 0, 5491, 0, 2765, 1509, 3132, 761, 2833, 1149, 2849, 2605, 1746, 2689, 1921, 2865]\n[16, 788, 2108, 2348, 6770, 2422, 3534, 3543, 3365, 3662, 537, 2618, 185, 0, 572, 5985, 0, 1527, 3172, 3179, 253, 3616, 2085, 875, 1071, 2320, 843, 1706]\n[17, 1662, 1283, 1690, 4926, 973, 1785, 1784, 2036, 2336, 2035, 874, 2253, 0, 1851, 4141, 2345, 0, 2222, 1711, 1498, 2127, 1512, 1114, 964, 1493, 835, 1413]\n[18, 3296, 3852, 1712, 5348, 2027, 1518, 2206, 711, 476, 4242, 1847, 3889, 0, 3572, 4563, 4066, 2747, 0, 2706, 2977, 2814, 1123, 2303, 3142, 852, 2909, 1536]\n[19, 4230, 4397, 3050, 1686, 2589, 2150, 1456, 3135, 3442, 4862, 2390, 4822, 0, 4505, 901, 4998, 3662, 0, 3190, 449, 2707, 2808, 2274, 2463, 2362, 2835]\n[20, 501, 2074, 2061, 6483, 2135, 3247, 3255, 3078, 3375, 800, 2332, 120, 0, 285, 5698, 297, 2058, 3779, 4712, 0, 3618, 1874, 675, 1209, 2128, 934, 1483]\n[21, 4763, 4931, 3584, 2230, 3123, 2684, 1990, 3669, 3976, 5396, 2924, 5356, 0, 5039, 1445, 5533, 3764, 4196, 544, 5243, 0, 2982, 3206, 2726, 2704, 2806, 3156]\n[22, 1855, 3250, 434, 5159, 1148, 1444, 2017, 852, 1144, 2805, 1338, 2448, 0, 2131, 4374, 2625, 2124, 1553, 3473, 2338, 4007, 0, 1209, 2266, 357, 1979, 412]\n[23, 356, 2100, 1372, 5794, 1446, 2568, 2566, 2385, 2682, 1389, 1643, 949, 0, 632, 5009, 1126, 1454, 3090, 4023, 839, 4457, 1649, 0, 1323, 1453, 994, 839]\n[24, 1578, 806, 2738, 6120, 2157, 2979, 2978, 3230, 3537, 1070, 2054, 1660, 0, 1672, 5335, 1607, 1386, 3891, 4434, 1573, 4968, 3015, 1599, 0, 2348, 329, 2023]\n[25, 2187, 2933, 586, 4756, 1015, 1014, 1614, 408, 705, 3127, 926, 2770, 0, 2453, 3971, 2947, 1776, 1109, 3070, 2660, 3604, 429, 1962, 2970, 0, 2091, 741]\n[26, 1142, 947, 2302, 6052, 1789, 2911, 2910, 3143, 3450, 634, 1986, 1224, 0, 1236, 5267, 1171, 1401, 3804, 4366, 1137, 4900, 2579, 1163, 446, 2792, 0, 1713]\n[27, 1408, 3108, 524, 5261, 1239, 1892, 2119, 1300, 1597, 2397, 1428, 2001, 0, 1684, 4476, 2178, 2214, 2001, 3575, 1831, 4109, 521, 1202, 2607, 882, 2171, 0]\n",
     "output_type": "stream"
    }
   ],
   "execution_count": null
  },
  {
   "cell_type": "markdown",
   "source": "### Função Objetivo",
   "metadata": {
    "tags": [],
    "is_collapsed": false,
    "cell_id": "00003-7588260b-a0a5-4867-b001-544893691125",
    "deepnote_cell_type": "text-cell-h3"
   }
  },
  {
   "cell_type": "markdown",
   "source": "Calcula a distância da viagem.",
   "metadata": {
    "tags": [],
    "is_collapsed": false,
    "cell_id": "00004-97f400e3-61df-443c-8347-85fcd2a1142a",
    "deepnote_cell_type": "text-cell-p"
   }
  },
  {
   "cell_type": "code",
   "metadata": {
    "tags": [],
    "cell_id": "00004-28df7da1-fbc6-44a9-b8f1-35f9aadc4c9b",
    "deepnote_to_be_reexecuted": false,
    "source_hash": "372e6549",
    "execution_start": 1630975923717,
    "execution_millis": 1,
    "deepnote_cell_type": "code"
   },
   "source": "def funcao_objetivo(solucao):\n    distancia = 0\n    for i in range(0,len(solucao)-1):\n        distancia = distancia + matriz_distancias[(solucao[i])][(solucao[i+1])]\n    return distancia + matriz_distancias[solucao[len(solucao)-1]][solucao[0]]",
   "outputs": [],
   "execution_count": null
  },
  {
   "cell_type": "code",
   "metadata": {
    "tags": [],
    "cell_id": "00006-6342bae5-3bb0-429c-8f18-e3005e2bc17b",
    "deepnote_to_be_reexecuted": false,
    "source_hash": "ea17f792",
    "execution_start": 1630975923718,
    "execution_millis": 7,
    "deepnote_cell_type": "code"
   },
   "source": "# Teste da função objetivo\nprint(funcao_objetivo([2,1,3,0]))",
   "outputs": [
    {
     "name": "stdout",
     "text": "5334\n",
     "output_type": "stream"
    }
   ],
   "execution_count": null
  },
  {
   "cell_type": "markdown",
   "source": "## Algoritmo Aleatório",
   "metadata": {
    "tags": [],
    "is_collapsed": false,
    "cell_id": "00001-3a8e8355-1566-4102-bc77-0d0f92c83387",
    "deepnote_cell_type": "text-cell-h2"
   }
  },
  {
   "cell_type": "code",
   "metadata": {
    "tags": [],
    "cell_id": "00004-a266da5d-479a-43ca-a3c7-c0f46746b6ba",
    "deepnote_to_be_reexecuted": false,
    "source_hash": "f39208a2",
    "execution_start": 1631015348519,
    "execution_millis": 4,
    "deepnote_cell_type": "code"
   },
   "source": "from random import randrange\n\nfor c in range(30):\n    \n    distancia_final = []\n    solucao = []\n    cidades_copia = []\n\n    for i in range(len(cidades)):\n        cidades_copia.append(i)\n\n    while len(cidades_copia) > 0:\n        indice = randrange(len(cidades_copia))\n        cidade_sorteada = cidades_copia[indice]\n        del cidades_copia[indice]\n        solucao.append(cidade_sorteada)\n        \n        distancia_final.append(funcao_objetivo(solucao)) \n\n\n#print(\"Solução final :\",solucao, \" Distancia = \",funcao_objetivo(solucao))\nprint(distancia_final)",
   "outputs": [
    {
     "name": "stdout",
     "text": "[1649, 3015, 4521, 8305, 9726, 10071, 11598, 15164, 16111, 21190, 22210, 24360, 25373, 24407, 27601, 26919, 26505, 29798, 30731, 28383, 30678, 32342, 36083, 37657, 38427, 41142, 43119]\n",
     "output_type": "stream"
    }
   ],
   "execution_count": null
  },
  {
   "cell_type": "markdown",
   "source": "## Algoritmo Guloso",
   "metadata": {
    "tags": [],
    "is_collapsed": false,
    "cell_id": "00009-abe25ebe-3a83-43de-9ac0-16402e0fc241",
    "deepnote_cell_type": "text-cell-h2"
   }
  },
  {
   "cell_type": "code",
   "metadata": {
    "tags": [],
    "cell_id": "00010-4542fcf7-1d4b-41a9-b59d-dc377c22ebc4",
    "deepnote_to_be_reexecuted": false,
    "source_hash": "69a0d673",
    "execution_start": 1631015354147,
    "execution_millis": 24,
    "deepnote_cell_type": "code"
   },
   "source": "from random import randrange\n\nfor c in range(40):\n    \n    distancia_final = []\n    solucao = []\n    cidades_copia = []\n\n    for i in range(len(cidades)):\n      cidades_copia.append(i)\n\n    # Seleciona a cidade de partida\n    indice = randrange(len(cidades_copia))\n    cidade_sorteada = cidades_copia[indice]\n    del cidades_copia[indice]\n    solucao.append(cidade_sorteada)\n\n    while len(cidades_copia) > 0:\n        cidade_de_onde_esta_saindo = cidades[solucao[len(solucao)-1]]\n        cidade_mais_proxima = cidades_copia[0]\n        cidade_mais_proxima_indice = 0\n        menor_distancia = matriz_distancias[cidade_de_onde_esta_saindo-1][cidade_mais_proxima]##[cidade_de_onde_esta_saindo][cidade_mais_proxima]\n        #print(\"------\")\n        #print(\"Cidade de onde esta saindo:\",cidade_de_onde_esta_saindo)\n        i = 0\n        for proxima_cidade_candidata  in cidades_copia:\n            distancia = matriz_distancias[cidade_de_onde_esta_saindo-1][proxima_cidade_candidata]\n            #print(\"Cidade\",cidades[proxima_cidade_candidata],\" distancia \",distancia)\n            if distancia < menor_distancia:\n                menor_distancia = distancia\n                cidade_mais_proxima = proxima_cidade_candidata\n                cidade_mais_proxima_indice = i\n            i = i + 1\n        #print(\"Cidade mais proxima:\",cidade_mais_proxima,\"Distancia\",menor_distancia)\n        \n        solucao.append(cidades_copia[cidade_mais_proxima_indice])\n        distancia_final.append(funcao_objetivo(solucao)) \n        del cidades_copia[cidade_mais_proxima_indice]\n   \n   \n    #print(\"Solução final :\",solucao, \" Di =stancia \",funcao_objetivo(solucao))\nprint(distancia_final)  ",
   "outputs": [
    {
     "name": "stdout",
     "text": "[1383, 1509, 1527, 0, 1252, 990, 1195, 2005, 637, 1337, 1046, 1710, 1948, 1317, 741, 1538, 1194, 2596, 2221, 3034, 2795, 2727, 6678, 5038, 8129, 9715]\n",
     "output_type": "stream"
    }
   ],
   "execution_count": null
  },
  {
   "cell_type": "markdown",
   "source": "## Algoritmo Semi-Guloso",
   "metadata": {
    "tags": [],
    "is_collapsed": false,
    "cell_id": "00011-7ca347bd-5c65-4578-81b0-96a4c4061c2a",
    "deepnote_cell_type": "text-cell-h2"
   }
  },
  {
   "cell_type": "code",
   "metadata": {
    "tags": [],
    "cell_id": "00012-dab7445c-3777-449c-ba16-2d7d5e191fcb",
    "deepnote_to_be_reexecuted": false,
    "source_hash": "3d317676",
    "execution_start": 1630976492491,
    "execution_millis": 4,
    "deepnote_cell_type": "code"
   },
   "source": "from random import randrange\n\n\nfor c in range(40):\n    \n    distancia_final = []\n    solucao = []\n    cidades_copia = []\n    delta = 70 \n\n    for i in range(len(cidades)):\n        cidades_copia.append(i)\n\n    # Seleciona a cidade de partida\n    indice = randrange(len(cidades_copia))\n    cidade_sorteada = cidades_copia[indice]\n    del cidades_copia[indice]\n    solucao.append(cidade_sorteada)\n\n    while len(cidades_copia) > 0:\n        # Sortea a probabilidade de selecionar o método guloso ou aleatorio.\n        valor_aleatorio = randrange(100)\n\n        if delta > valor_aleatorio:\n            #-------\n            #. Metodo Guloso\n            #-------\n            #print(\"Metodo Guloso\")\n            cidade_de_onde_esta_saindo = cidades[solucao[len(solucao)-1]]\n            cidade_mais_proxima = cidades_copia[0]\n            cidade_mais_proxima_indice = 0\n            menor_distancia = matriz_distancias[cidade_de_onde_esta_saindo-1][cidade_mais_proxima]\n            #print(\"------\")\n            #print(\"Cidade de onde esta saindo:\",cidade_de_onde_esta_saindo)\n            i = 0\n            for proxima_cidade_candidata  in cidades_copia:\n                distancia = matriz_distancias[cidade_de_onde_esta_saindo-1][proxima_cidade_candidata]\n                #print(\"Cidade\",cidades[proxima_cidade_candidata],\" distancia \",distancia)\n                if distancia < menor_distancia:\n                    menor_distancia = distancia\n                    cidade_mais_proxima = proxima_cidade_candidata\n                    cidade_mais_proxima_indice = i\n                i = i + 1\n            #print(\"Cidade mais proxima:\",cidade_mais_proxima,\"Distancia\",menor_distancia)\n            \n            solucao.append(cidades_copia[cidade_mais_proxima_indice])\n            distancia_final.append(funcao_objetivo(solucao)) \n            del cidades_copia[cidade_mais_proxima_indice]\n            \n        else:\n            #-------\n            #. Metodo Aleatório\n            #-------\n           # print(\"Metodo Aleatório\")\n            indice = randrange(len(cidades_copia))\n            cidade_sorteada = cidades_copia[indice]\n            del cidades_copia[indice]\n            solucao.append(cidade_sorteada)\n \n            distancia_final.append(funcao_objetivo(solucao)) \n            \n#print(\"Solução final :\",solucao, \" Distancia = \",funcao_objetivo(solucao))\nprint(distancia_final)\n",
   "outputs": [
    {
     "name": "stdout",
     "text": "[3660, 3565, 3575, 3444, 3590, 2688, 2885, 2423, 1949, 3154, 3629, 4702, 8044, 6314, 13269, 15548, 14825, 16870, 15871, 20023, 20334, 25249, 26630, 28112, 30229, 32037]\n",
     "output_type": "stream"
    }
   ],
   "execution_count": null
  },
  {
   "cell_type": "markdown",
   "source": "<a style='text-decoration:none;line-height:16px;display:flex;color:#5B5B62;padding:10px;justify-content:end;' href='https://deepnote.com?utm_source=created-in-deepnote-cell&projectId=d6494658-d152-4e72-9571-1e8bb61bdbd6' target=\"_blank\">\n<img alt='Created in deepnote.com' style='display:inline;max-height:16px;margin:0px;margin-right:7.5px;' src='data:image/svg+xml;base64,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' > </img>\nCreated in <span style='font-weight:600;margin-left:4px;'>Deepnote</span></a>",
   "metadata": {
    "tags": [],
    "created_in_deepnote_cell": true,
    "deepnote_cell_type": "markdown"
   }
  }
 ],
 "nbformat": 4,
 "nbformat_minor": 2,
 "metadata": {
  "orig_nbformat": 2,
  "deepnote": {
   "is_reactive": false
  },
  "deepnote_notebook_id": "bf4606e5-fc62-42f7-b764-fac6bd74cd30",
  "deepnote_execution_queue": []
 }
}